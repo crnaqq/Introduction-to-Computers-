{
  "nbformat": 4,
  "nbformat_minor": 0,
  "metadata": {
    "colab": {
      "name": "0509.ipynb",
      "provenance": [],
      "collapsed_sections": [],
      "authorship_tag": "ABX9TyPgv1ECNFbYTNn2GrO5Mu1u",
      "include_colab_link": true
    },
    "kernelspec": {
      "name": "python3",
      "display_name": "Python 3"
    },
    "language_info": {
      "name": "python"
    }
  },
  "cells": [
    {
      "cell_type": "markdown",
      "metadata": {
        "id": "view-in-github",
        "colab_type": "text"
      },
      "source": [
        "<a href=\"https://colab.research.google.com/github/crnaqq/Introduction-to-Computers-/blob/main/0509.ipynb\" target=\"_parent\"><img src=\"https://colab.research.google.com/assets/colab-badge.svg\" alt=\"Open In Colab\"/></a>"
      ]
    },
    {
      "cell_type": "code",
      "execution_count": 7,
      "metadata": {
        "colab": {
          "base_uri": "https://localhost:8080/"
        },
        "id": "LOCchnj67k2f",
        "outputId": "35b32fc3-3043-4fb7-d561-5dc8e53ecb62"
      },
      "outputs": [
        {
          "output_type": "stream",
          "name": "stdout",
          "text": [
            "請輸入你的體溫37\n",
            "體溫略高!\n"
          ]
        }
      ],
      "source": [
        "temp = float(input(\"請輸入你的體溫\"))\n",
        "if temp >= 37.5:\n",
        "    print(\"體溫過高!\")\n",
        "elif temp >= 37 and temp < 37.4:\n",
        "    print(\"體溫略高!\")\n",
        "elif temp >= 34 and temp <= 36.9:\n",
        "    print(\"體溫正常!\")\n",
        "\n",
        "else:\n",
        "    print(\"體溫異常，請重新量測!\")\n"
      ]
    },
    {
      "cell_type": "code",
      "source": [
        "score = input(\"請輸入成績\")\n",
        "if (int(score) >= 90):\n",
        "    print(\"A\")\n",
        "elif (int(score) >= 80):\n",
        "    print(\"B\")\n",
        "elif (int(score) >= 70):\n",
        "    print(\"C\")\n",
        "elif (int(score) >= 60):\n",
        "    print(\"D\")    \n",
        "    \n",
        "else:\n",
        "    print(\"E\")"
      ],
      "metadata": {
        "colab": {
          "base_uri": "https://localhost:8080/"
        },
        "id": "s-UJ2b6U_pAX",
        "outputId": "c58b04c8-7ab0-4ebc-c7fb-a70e72148024"
      },
      "execution_count": 9,
      "outputs": [
        {
          "output_type": "stream",
          "name": "stdout",
          "text": [
            "請輸入成績80\n",
            "B\n"
          ]
        }
      ]
    },
    {
      "cell_type": "code",
      "source": [
        "money = int(input(\"請輸入購物金額:\"))\n",
        "if (money >= 10000):\n",
        "    if(money >= 100000):\n",
        "      print(\"八折\", money * 0.8, end = \"元\\n\")\n",
        "    elif(money >= 50000):\n",
        "      print(\"八五折\", money * 0.85, end = \"元\\n\") \n",
        "    elif(money >= 30000):\n",
        "      print(\"九折\", money * 0.9, end = \"元\\n\")  \n",
        "    elif(money >= 10000):\n",
        "      print(\"九五折\", money * 0.95, end = \"元\\n\")\n",
        "\n",
        "else:\n",
        "    print(\"沒打折\", money, end = \"元\\n\")"
      ],
      "metadata": {
        "colab": {
          "base_uri": "https://localhost:8080/"
        },
        "id": "DDTxz3tlEpHQ",
        "outputId": "0c501a85-27b1-42a5-d045-303bb34b1ed5"
      },
      "execution_count": 19,
      "outputs": [
        {
          "output_type": "stream",
          "name": "stdout",
          "text": [
            "請輸入購物金額:100000\n",
            "八折 80000.0元\n"
          ]
        }
      ]
    },
    {
      "cell_type": "code",
      "source": [
        "month = int(input(\"請輸入月份\"))\n",
        "if month >= 3 and month <= 5:\n",
        "    print(month, \"月是春天!\")\n",
        "elif month >= 6 and month <= 8:\n",
        "    print(month, \"月是夏天!\")\n",
        "elif month >= 9 and month <= 11:\n",
        "    print(month, \"月是秋天!\")\n",
        "elif month >= 9 and month <= 11:\n",
        "    print(month, \"月是冬天!\")\n",
        "\n",
        "else:\n",
        "    print(\"月份不在範圍內!\")"
      ],
      "metadata": {
        "colab": {
          "base_uri": "https://localhost:8080/"
        },
        "id": "ifEH1p1AIxJj",
        "outputId": "4138668a-7fb7-42a0-a18a-298332f23afb"
      },
      "execution_count": 23,
      "outputs": [
        {
          "output_type": "stream",
          "name": "stdout",
          "text": [
            "請輸入月份6\n",
            "6 月是夏天!\n"
          ]
        }
      ]
    },
    {
      "cell_type": "code",
      "source": [
        "income = int(input(\"請輸入今年收入淨額:\"))\n",
        "if (income >= 300000):\n",
        "    if(income >= 2000000):\n",
        "      print(\"付稅金額:\", income * 0.3, end = \"元\\n\")\n",
        "    elif(income >= 1000000):\n",
        "      print(\"付稅金額:\", income * 0.21, end = \"元\\n\") \n",
        "    elif(income >= 600000):\n",
        "      print(\"付稅金額:\", income * 0.13, end = \"元\\n\")  \n",
        "    elif(income >= 300000):\n",
        "      print(\"付稅金額:\", income * 0.06, end = \"元\\n\")\n",
        "\n",
        "else:\n",
        "    print(\"不用繳稅\")"
      ],
      "metadata": {
        "colab": {
          "base_uri": "https://localhost:8080/"
        },
        "id": "ARKyNtmSKRbO",
        "outputId": "80340b7f-c05e-4487-9ad0-209ffca081fa"
      },
      "execution_count": 25,
      "outputs": [
        {
          "output_type": "stream",
          "name": "stdout",
          "text": [
            "請輸入今年收入淨額:2000000\n",
            "付稅金額: 600000.0元\n"
          ]
        }
      ]
    }
  ]
}