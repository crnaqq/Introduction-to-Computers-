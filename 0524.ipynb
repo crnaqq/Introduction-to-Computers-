{
  "nbformat": 4,
  "nbformat_minor": 0,
  "metadata": {
    "colab": {
      "provenance": [],
      "authorship_tag": "ABX9TyM3btpsh13/JCSe0VTvbSpX",
      "include_colab_link": true
    },
    "kernelspec": {
      "name": "python3",
      "display_name": "Python 3"
    },
    "language_info": {
      "name": "python"
    }
  },
  "cells": [
    {
      "cell_type": "markdown",
      "metadata": {
        "id": "view-in-github",
        "colab_type": "text"
      },
      "source": [
        "<a href=\"https://colab.research.google.com/github/crnaqq/Introduction-to-Computers-/blob/main/0524.ipynb\" target=\"_parent\"><img src=\"https://colab.research.google.com/assets/colab-badge.svg\" alt=\"Open In Colab\"/></a>"
      ]
    },
    {
      "cell_type": "code",
      "execution_count": 2,
      "metadata": {
        "colab": {
          "base_uri": "https://localhost:8080/"
        },
        "id": "sDF8dkTZ5fhP",
        "outputId": "3c283dbe-473c-4056-9899-9310a6842744"
      },
      "outputs": [
        {
          "output_type": "stream",
          "name": "stdout",
          "text": [
            "Mean: 100.0\n",
            "Probability of 120: 0.5482768464605251\n"
          ]
        }
      ],
      "source": [
        "from scipy.stats import binom\n",
        "n,p = 10000, 0.01\n",
        "mean, var, skew, kurt = binom.stats(n,p,moments='mvsk') \n",
        "print('Mean:',mean)\n",
        "print(\"Probability of 120:\",binom.pmf(120,n,p)*100)"
      ]
    }
  ]
}