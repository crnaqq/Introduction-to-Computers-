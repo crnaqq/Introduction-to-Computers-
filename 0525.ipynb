{
  "nbformat": 4,
  "nbformat_minor": 0,
  "metadata": {
    "colab": {
      "name": "0525.ipynb",
      "provenance": [],
      "authorship_tag": "ABX9TyPR7hh7NLp/vYRnFT3p/rlh",
      "include_colab_link": true
    },
    "kernelspec": {
      "name": "python3",
      "display_name": "Python 3"
    },
    "language_info": {
      "name": "python"
    }
  },
  "cells": [
    {
      "cell_type": "markdown",
      "metadata": {
        "id": "view-in-github",
        "colab_type": "text"
      },
      "source": [
        "<a href=\"https://colab.research.google.com/github/crnaqq/Introduction-to-Computers-/blob/main/0525.ipynb\" target=\"_parent\"><img src=\"https://colab.research.google.com/assets/colab-badge.svg\" alt=\"Open In Colab\"/></a>"
      ]
    },
    {
      "cell_type": "code",
      "execution_count": 3,
      "metadata": {
        "colab": {
          "base_uri": "https://localhost:8080/"
        },
        "id": "n4PKhZ55xLTy",
        "outputId": "d07b6cc9-5a21-41f8-e9b4-f286cb2e8896"
      },
      "outputs": [
        {
          "output_type": "stream",
          "name": "stdout",
          "text": [
            "85\n"
          ]
        }
      ],
      "source": [
        "Amy = {\"math\":90, \"language\":95}\n",
        "Betty = {\"math\":100, \"language\":97}\n",
        "Cindy = {\"math\":85, \"language\":88}\n",
        "Dora = {\"math\":77, \"language\":90}\n",
        "Eva = {\"math\":93, \"language\":91}\n",
        "\n",
        "class_score = {21:Amy, 22:Betty, 23:Cindy, 24:Dora, 25:Eva}\n",
        "print(class_score[23][\"math\"])"
      ]
    }
  ]
}