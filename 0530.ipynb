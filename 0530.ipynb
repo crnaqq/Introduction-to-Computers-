{
  "nbformat": 4,
  "nbformat_minor": 0,
  "metadata": {
    "colab": {
      "name": "0530.ipynb",
      "provenance": [],
      "collapsed_sections": [],
      "authorship_tag": "ABX9TyPY8NxSzZuBn7Ms2lhDJJ+c",
      "include_colab_link": true
    },
    "kernelspec": {
      "name": "python3",
      "display_name": "Python 3"
    },
    "language_info": {
      "name": "python"
    }
  },
  "cells": [
    {
      "cell_type": "markdown",
      "metadata": {
        "id": "view-in-github",
        "colab_type": "text"
      },
      "source": [
        "<a href=\"https://colab.research.google.com/github/crnaqq/Introduction-to-Computers-/blob/main/0530.ipynb\" target=\"_parent\"><img src=\"https://colab.research.google.com/assets/colab-badge.svg\" alt=\"Open In Colab\"/></a>"
      ]
    },
    {
      "cell_type": "code",
      "source": [
        "for i in range(2,10):\n",
        "    for j in range(1,10):\n",
        "        product = i * j\n",
        "        print(\"%d*%d=%2d   \" % (i, j, product), end = \"\")\n",
        "    print()"
      ],
      "metadata": {
        "colab": {
          "base_uri": "https://localhost:8080/"
        },
        "id": "4oppPTdUFwtb",
        "outputId": "6d746a27-a7fb-4b9d-8d8d-d4a545bae617"
      },
      "execution_count": null,
      "outputs": [
        {
          "output_type": "stream",
          "name": "stdout",
          "text": [
            "2*1= 2   2*2= 4   2*3= 6   2*4= 8   2*5=10   2*6=12   2*7=14   2*8=16   2*9=18   \n",
            "3*1= 3   3*2= 6   3*3= 9   3*4=12   3*5=15   3*6=18   3*7=21   3*8=24   3*9=27   \n",
            "4*1= 4   4*2= 8   4*3=12   4*4=16   4*5=20   4*6=24   4*7=28   4*8=32   4*9=36   \n",
            "5*1= 5   5*2=10   5*3=15   5*4=20   5*5=25   5*6=30   5*7=35   5*8=40   5*9=45   \n",
            "6*1= 6   6*2=12   6*3=18   6*4=24   6*5=30   6*6=36   6*7=42   6*8=48   6*9=54   \n",
            "7*1= 7   7*2=14   7*3=21   7*4=28   7*5=35   7*6=42   7*7=49   7*8=56   7*9=63   \n",
            "8*1= 8   8*2=16   8*3=24   8*4=32   8*5=40   8*6=48   8*7=56   8*8=64   8*9=72   \n",
            "9*1= 9   9*2=18   9*3=27   9*4=36   9*5=45   9*6=54   9*7=63   9*8=72   9*9=81   \n"
          ]
        }
      ]
    },
    {
      "cell_type": "code",
      "execution_count": null,
      "metadata": {
        "colab": {
          "base_uri": "https://localhost:8080/"
        },
        "id": "TtgrvtJPE7lI",
        "outputId": "3fec1a82-2bdd-4db6-8231-85a79ad89ff9"
      },
      "outputs": [
        {
          "output_type": "stream",
          "name": "stdout",
          "text": [
            "請輸入a的值4\n",
            "請輸入b的值6\n",
            "4和 6的最小公倍數 = 12\n"
          ]
        }
      ],
      "source": [
        "a = int(input(\"請輸入a的值\"))\n",
        "b = int(input(\"請輸入b的值\"))\n",
        "\n",
        "maxno = a * b\n",
        "for i in range(1, maxno+1):\n",
        "    if(i % a == 0 and i % b ==0):\n",
        "        break\n",
        "print(\"%d和 %d的最小公倍數 = %d\" %(a,b,i))        "
      ]
    },
    {
      "cell_type": "code",
      "source": [
        "n = int(input(\"請輸入正整數:\"))\n",
        "for i in range(1,n+1):\n",
        "    if i % 5 == 0:\n",
        "        continue\n",
        "    print(i, end=\" \")"
      ],
      "metadata": {
        "colab": {
          "base_uri": "https://localhost:8080/"
        },
        "id": "NoNe1_CEGeBA",
        "outputId": "b40d0de8-317f-4dfa-9f37-f4cffb356231"
      },
      "execution_count": null,
      "outputs": [
        {
          "output_type": "stream",
          "name": "stdout",
          "text": [
            "請輸入正整數:21\n",
            "1 2 3 4 6 7 8 9 11 12 13 14 16 17 18 19 21 "
          ]
        }
      ]
    },
    {
      "cell_type": "code",
      "source": [
        "total = n = 0\n",
        "while(n <= 10):\n",
        "    total += n\n",
        "    n += 1\n",
        "print(total)"
      ],
      "metadata": {
        "colab": {
          "base_uri": "https://localhost:8080/"
        },
        "id": "-ad7t0wmIKVN",
        "outputId": "f7a57d80-51e7-4387-8fcb-8061755c09d4"
      },
      "execution_count": null,
      "outputs": [
        {
          "output_type": "stream",
          "name": "stdout",
          "text": [
            "55\n"
          ]
        }
      ]
    },
    {
      "cell_type": "code",
      "source": [
        "total = n = 0\n",
        "while n <= 10:\n",
        "    total += n\n",
        "    n += 1\n",
        "print(total)"
      ],
      "metadata": {
        "colab": {
          "base_uri": "https://localhost:8080/"
        },
        "id": "J036aInSIua_",
        "outputId": "1c618371-1d87-489a-f7ae-17bf66759087"
      },
      "execution_count": null,
      "outputs": [
        {
          "output_type": "stream",
          "name": "stdout",
          "text": [
            "55\n"
          ]
        }
      ]
    },
    {
      "cell_type": "code",
      "source": [
        "total = i = 1\n",
        "n = int(input(\"請輸入正整數n的值:\"))\n",
        "while i <=n:\n",
        "    total *= i\n",
        "    i+=1\n",
        "print(\"%d!=%d\" % (n, total))\n",
        "\n",
        "n = int(input(\"請輸入正整數n的值:\"))\n",
        "while i <=n:\n",
        "    total *= i\n",
        "    i+=1\n",
        "print(\"%d!=%d\" % (n, total))\n"
      ],
      "metadata": {
        "colab": {
          "base_uri": "https://localhost:8080/"
        },
        "id": "qfj5P8pLBJ3P",
        "outputId": "563133dc-503d-435f-b756-1453ab7618fd"
      },
      "execution_count": 27,
      "outputs": [
        {
          "output_type": "stream",
          "name": "stdout",
          "text": [
            "請輸入正整數n的值:5\n",
            "5!=120\n",
            "請輸入正整數n的值:6\n",
            "6!=720\n"
          ]
        }
      ]
    },
    {
      "cell_type": "code",
      "source": [
        "total = i = 1\n",
        "n = int(input(\"請輸入正整數n的值:\"))\n",
        "while i <=n:\n",
        "    total *= i\n",
        "    i+=1\n",
        "print(\"%d!=%d\" % (n, total))"
      ],
      "metadata": {
        "colab": {
          "base_uri": "https://localhost:8080/"
        },
        "id": "yJ9tkU3cMHxI",
        "outputId": "69f43951-56c5-4af2-ade3-9d32c23cab37"
      },
      "execution_count": null,
      "outputs": [
        {
          "output_type": "stream",
          "name": "stdout",
          "text": [
            "請輸入正整數n的值:100\n",
            "100!=93326215443944152681699238856266700490715968264381621468592963895217599993229915608941463976156518286253697920827223758251185210916864000000000000000000000000\n"
          ]
        }
      ]
    },
    {
      "cell_type": "code",
      "source": [
        "sum = i = 0\n",
        "\n",
        "for i in range(0,51):\n",
        "    if i % 2 ==0:\n",
        "        sum += i \n",
        "    i+=1\n",
        "print(\"0~50的偶數和結果是 %d\" % (sum))\n",
        "\n",
        "sum = i = 0\n",
        "for i in range(0,51):\n",
        "    if i % 2 !=0:\n",
        "        sum += i\n",
        "    i+=1\n",
        "print(\"0~50的奇數和結果是 %d\" % (sum))\n",
        "        \n",
        "\n"
      ],
      "metadata": {
        "id": "CZ-nREOGM4oU",
        "colab": {
          "base_uri": "https://localhost:8080/"
        },
        "outputId": "7eccad86-3c42-4f4c-92f9-1780ff1043f6"
      },
      "execution_count": 85,
      "outputs": [
        {
          "output_type": "stream",
          "name": "stdout",
          "text": [
            "0~50的偶數和結果是 650\n",
            "0~50的奇數和結果是 625\n"
          ]
        }
      ]
    },
    {
      "cell_type": "code",
      "source": [
        "a = int(input(\"請輸入正整數:\"))\n"
      ],
      "metadata": {
        "id": "rEJUw86LDZYQ"
      },
      "execution_count": null,
      "outputs": []
    },
    {
      "cell_type": "code",
      "source": [
        "n = int(input(\"請輸入正整數:\"))\n",
        "for i in range(n):\n",
        "    print((n-i)*'*')"
      ],
      "metadata": {
        "colab": {
          "base_uri": "https://localhost:8080/"
        },
        "id": "Ra7sOyVpFt_r",
        "outputId": "5efd131f-6def-4324-f441-ad29e18e173a"
      },
      "execution_count": 72,
      "outputs": [
        {
          "output_type": "stream",
          "name": "stdout",
          "text": [
            "請輸入正整數:5\n",
            "*****\n",
            "****\n",
            "***\n",
            "**\n",
            "*\n"
          ]
        }
      ]
    },
    {
      "cell_type": "code",
      "source": [
        "a = 0\n",
        "for i in range(1,100):\n",
        "    if (i%3 ==0 or i%7==0):\n",
        "        a=a+i\n",
        "print(\"數值1~100中,所有是 3 或 7 倍數的數值總和 = %d\" %a)"
      ],
      "metadata": {
        "colab": {
          "base_uri": "https://localhost:8080/"
        },
        "id": "HiP5KsinFuIV",
        "outputId": "4aa26b6a-6e80-4f60-cd78-f8bc25d212c4"
      },
      "execution_count": 65,
      "outputs": [
        {
          "output_type": "stream",
          "name": "stdout",
          "text": [
            "數值1~100中,所有是 3 或 7 倍數的數值總和 = 2208\n"
          ]
        }
      ]
    },
    {
      "cell_type": "code",
      "source": [
        "n = int(input(\"請輸入正整數:\"))\n",
        "\n",
        "print(n,\"的因數有\",end=\" \")\n",
        "for i in range(1,n+1):\n",
        "    if n%i == 0:\n",
        "        print(i,end= \" \")\n",
        "\n",
        "for c in range(2, n):\n",
        "    if n % c == 0:\n",
        "        print(\"\\n%d 不是質數\" % n)\n",
        "        break\n",
        "    elif c == n-1:\n",
        "        print(\"\\n%d 是質數\" % n)\n",
        "\n",
        "if n == 2:\n",
        "    print(\"\\n%d 是質數\" % n)        "
      ],
      "metadata": {
        "colab": {
          "base_uri": "https://localhost:8080/"
        },
        "id": "MgbPEonIFulN",
        "outputId": "e378997c-f466-4541-a3b6-b63f1b5de2b2"
      },
      "execution_count": 109,
      "outputs": [
        {
          "output_type": "stream",
          "name": "stdout",
          "text": [
            "請輸入正整數:12\n",
            "12 的因數有 1 2 3 4 6 12 \n",
            "12 不是質數\n"
          ]
        }
      ]
    },
    {
      "cell_type": "code",
      "source": [
        "n = int(input(\"請輸入正整數:\"))\n",
        "\n",
        "print(n,\"的因數有\",end=\" \")\n",
        "for i in range(1,n+1):\n",
        "    if n%i == 0:\n",
        "        print(i,end= \" \")\n",
        "\n",
        "for c in range(2, n):\n",
        "    if n % c == 0:\n",
        "        print(\"\\n%d 不是質數\" % n)\n",
        "        break\n",
        "    elif c == n-1:\n",
        "        print(\"\\n%d 是質數\" % n)\n",
        "\n",
        "if n == 2:\n",
        "    print(\"\\n%d 是質數\" % n)        "
      ],
      "metadata": {
        "colab": {
          "base_uri": "https://localhost:8080/"
        },
        "id": "KFzMwsbcsQfc",
        "outputId": "271fce76-c82d-42e3-b670-12dd34359d08"
      },
      "execution_count": 110,
      "outputs": [
        {
          "output_type": "stream",
          "name": "stdout",
          "text": [
            "請輸入正整數:11\n",
            "11 的因數有 1 11 \n",
            "11 是質數\n"
          ]
        }
      ]
    }
  ]
}